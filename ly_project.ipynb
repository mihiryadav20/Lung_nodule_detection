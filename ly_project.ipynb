{
  "nbformat": 4,
  "nbformat_minor": 0,
  "metadata": {
    "colab": {
      "provenance": [],
      "mount_file_id": "1tEDl53Nc6zrRxutV5T5mzUqZAuVADI4k",
      "authorship_tag": "ABX9TyONTTur9op0Gqdf00PDOSgf",
      "include_colab_link": true
    },
    "kernelspec": {
      "name": "python3",
      "display_name": "Python 3"
    },
    "language_info": {
      "name": "python"
    }
  },
  "cells": [
    {
      "cell_type": "markdown",
      "metadata": {
        "id": "view-in-github",
        "colab_type": "text"
      },
      "source": [
        "<a href=\"https://colab.research.google.com/github/mihiryadav20/Lung_nodules/blob/main/ly_project.ipynb\" target=\"_parent\"><img src=\"https://colab.research.google.com/assets/colab-badge.svg\" alt=\"Open In Colab\"/></a>"
      ]
    },
    {
      "cell_type": "code",
      "execution_count": null,
      "metadata": {
        "colab": {
          "base_uri": "https://localhost:8080/"
        },
        "id": "9dMVPetkKBlm",
        "outputId": "fb47c029-a3b4-4746-eb00-39b69f963907"
      },
      "outputs": [
        {
          "output_type": "stream",
          "name": "stdout",
          "text": [
            "lung nodule detection project\n"
          ]
        }
      ],
      "source": [
        "print(\"lung nodule detection project\")"
      ]
    },
    {
      "cell_type": "code",
      "source": [
        "from google.colab import drive\n",
        "drive.mount('/content/drive')"
      ],
      "metadata": {
        "colab": {
          "base_uri": "https://localhost:8080/"
        },
        "id": "LLJk33RZKFd2",
        "outputId": "f974209d-f066-4664-c3ad-9a92752047fc"
      },
      "execution_count": null,
      "outputs": [
        {
          "output_type": "stream",
          "name": "stdout",
          "text": [
            "Mounted at /content/drive\n"
          ]
        }
      ]
    },
    {
      "cell_type": "code",
      "source": [
        "import warnings\n",
        "warnings.filterwarnings('ignore')"
      ],
      "metadata": {
        "id": "GGTDcHo6KsUa"
      },
      "execution_count": null,
      "outputs": []
    },
    {
      "cell_type": "code",
      "source": [
        "import os\n",
        "import keras \n",
        "from keras.models import Sequential\n",
        "from keras.layers import Conv2D, MaxPooling2D, Flatten, Dense, Dropout, BatchNormalization\n",
        "from PIL import Image\n",
        "import numpy as np\n",
        "import pandas as pd\n",
        "import matplotlib.pyplot as plt\n",
        "plt.style.use('dark_background')\n",
        "from sklearn.model_selection import train_test_split\n",
        "from sklearn.preprocessing import OneHotEncoder \n"
      ],
      "metadata": {
        "id": "Co1hPp5NKzAK"
      },
      "execution_count": null,
      "outputs": []
    },
    {
      "cell_type": "code",
      "source": [
        "import glob"
      ],
      "metadata": {
        "id": "wmVKJjxQLB6H"
      },
      "execution_count": null,
      "outputs": []
    },
    {
      "cell_type": "code",
      "source": [],
      "metadata": {
        "id": "RvLlPgCTdMOe"
      },
      "execution_count": null,
      "outputs": []
    },
    {
      "cell_type": "markdown",
      "source": [
        "ONE HOT ENCODING \n"
      ],
      "metadata": {
        "id": "dG_VsoXVdNAr"
      }
    },
    {
      "cell_type": "code",
      "source": [
        "encoder = OneHotEncoder()\n",
        "encoder.fit([[0], [1]]) \n",
        "\n",
        "# 0 - Tumor\n",
        "# 1 - Normal\n",
        "'''One hot encoding is a process by which categorical \n",
        "variables are converted into a form that could be provided to ML algorithms to do a better job in prediction.'''"
      ],
      "metadata": {
        "id": "GF1ggQ4tLD5-",
        "colab": {
          "base_uri": "https://localhost:8080/",
          "height": 36
        },
        "outputId": "c35667d7-d684-499a-8587-759f7d0de28c"
      },
      "execution_count": null,
      "outputs": [
        {
          "output_type": "execute_result",
          "data": {
            "text/plain": [
              "'One hot encoding is a process by which categorical \\nvariables are converted into a form that could be provided to ML algorithms to do a better job in prediction.'"
            ],
            "application/vnd.google.colaboratory.intrinsic+json": {
              "type": "string"
            }
          },
          "metadata": {},
          "execution_count": 7
        }
      ]
    },
    {
      "cell_type": "markdown",
      "source": [
        "CREATING LISTS"
      ],
      "metadata": {
        "id": "s9bsSOAmd2gM"
      }
    },
    {
      "cell_type": "code",
      "source": [
        "# This cell updates result list for images with tumor\n",
        "\n",
        "data = []\n",
        "paths = []\n",
        "result = []\n",
        "\n",
        "for r, d, f in os.walk(r'/content/drive/MyDrive/brain_mri/brain_tumor_dataset/tumour'):\n",
        "    for file in f:\n",
        "        if '.jpg' in file:\n",
        "            paths.append(os.path.join(r, file))\n",
        "\n",
        "for path in paths:\n",
        "    img = Image.open(path)\n",
        "    img = img.resize((128,128))\n",
        "    img = np.array(img)\n",
        "    if(img.shape == (128,128,3)):\n",
        "        data.append(np.array(img))\n",
        "        result.append(encoder.transform([[0]]).toarray())"
      ],
      "metadata": {
        "id": "21qrwv95d1ry"
      },
      "execution_count": null,
      "outputs": []
    },
    {
      "cell_type": "code",
      "source": [
        "# This cell updates result list for images without tumor\n",
        "\n",
        "paths = []\n",
        "for r, d, f in os.walk(r\"/content/drive/MyDrive/brain_mri/brain_tumor_dataset/healthy\"):\n",
        "    for file in f:\n",
        "        if '.jpg' in file:\n",
        "            paths.append(os.path.join(r, file))\n",
        "\n",
        "for path in paths:\n",
        "    img = Image.open(path)\n",
        "    img = img.resize((128,128))\n",
        "    img = np.array(img)\n",
        "    if(img.shape == (128,128,3)):\n",
        "        data.append(np.array(img))\n",
        "        result.append(encoder.transform([[1]]).toarray())\n",
        "\n",
        " "
      ],
      "metadata": {
        "id": "0ZQws8IEMEo2"
      },
      "execution_count": null,
      "outputs": []
    },
    {
      "cell_type": "code",
      "source": [
        "data = np.array(data)\n",
        "data.shape"
      ],
      "metadata": {
        "colab": {
          "base_uri": "https://localhost:8080/"
        },
        "id": "h4C167wPeOJF",
        "outputId": "ee6e7c81-13fb-4edc-d274-638ffddf6250"
      },
      "execution_count": null,
      "outputs": [
        {
          "output_type": "execute_result",
          "data": {
            "text/plain": [
              "(139, 128, 128, 3)"
            ]
          },
          "metadata": {},
          "execution_count": 10
        }
      ]
    },
    {
      "cell_type": "code",
      "source": [
        "result = np.array(result)\n",
        "result = result.reshape(139,2)"
      ],
      "metadata": {
        "id": "lvzJiOvLeOXo"
      },
      "execution_count": null,
      "outputs": []
    },
    {
      "cell_type": "markdown",
      "source": [
        "SPLITTING THE DATA INTO TRAIN AND TEST"
      ],
      "metadata": {
        "id": "m0I0M_XxeVWj"
      }
    },
    {
      "cell_type": "code",
      "source": [
        "x_train,x_test,y_train,y_test = train_test_split(data, result, test_size=0.2, shuffle=True, random_state=0)"
      ],
      "metadata": {
        "id": "8TW0nMyTeOqs"
      },
      "execution_count": null,
      "outputs": []
    },
    {
      "cell_type": "markdown",
      "source": [
        " Creating the CNN model\n",
        " "
      ],
      "metadata": {
        "id": "WSZizYMzQxcR"
      }
    },
    {
      "cell_type": "code",
      "source": [
        "from keras.layers import Conv2D, MaxPool2D, Dropout, Flatten, Dense, BatchNormalization, GlobalAvgPool2D\n",
        "from keras.models import Sequential\n",
        "from  keras.preprocessing.image import ImageDataGenerator\n",
        "import keras\n",
        "import tensorflow"
      ],
      "metadata": {
        "id": "K_hbquBPQus4"
      },
      "execution_count": null,
      "outputs": []
    },
    {
      "cell_type": "code",
      "source": [
        "model = Sequential()\n",
        "\n",
        "model.add(Conv2D(32, kernel_size=(2, 2), input_shape=(128, 128, 3), padding = 'Same'))\n",
        "model.add(Conv2D(32, kernel_size=(2, 2),  activation ='relu', padding = 'Same'))\n",
        "\n",
        "\n",
        "model.add(BatchNormalization())\n",
        "model.add(MaxPooling2D(pool_size=(2, 2)))\n",
        "model.add(Dropout(0.25))\n",
        "\n",
        "model.add(Conv2D(64, kernel_size = (2,2), activation ='relu', padding = 'Same'))\n",
        "model.add(Conv2D(64, kernel_size = (2,2), activation ='relu', padding = 'Same'))\n",
        "\n",
        "model.add(BatchNormalization())\n",
        "model.add(MaxPooling2D(pool_size=(2,2), strides=(2,2)))\n",
        "model.add(Dropout(0.25))\n",
        "\n",
        "model.add(Flatten())\n",
        "\n",
        "model.add(Dense(512, activation='relu'))\n",
        "model.add(Dropout(0.5))\n",
        "model.add(Dense(2, activation='softmax'))\n",
        "\n",
        "model.compile(loss = \"categorical_crossentropy\", optimizer='Adamax')\n",
        "print(model.summary())\n"
      ],
      "metadata": {
        "id": "WgnvEitSQvFP",
        "colab": {
          "base_uri": "https://localhost:8080/"
        },
        "outputId": "629de56d-63f1-4b28-9d96-946ed9daae4e"
      },
      "execution_count": null,
      "outputs": [
        {
          "output_type": "stream",
          "name": "stdout",
          "text": [
            "Model: \"sequential\"\n",
            "_________________________________________________________________\n",
            " Layer (type)                Output Shape              Param #   \n",
            "=================================================================\n",
            " conv2d (Conv2D)             (None, 128, 128, 32)      416       \n",
            "                                                                 \n",
            " conv2d_1 (Conv2D)           (None, 128, 128, 32)      4128      \n",
            "                                                                 \n",
            " batch_normalization (BatchN  (None, 128, 128, 32)     128       \n",
            " ormalization)                                                   \n",
            "                                                                 \n",
            " max_pooling2d (MaxPooling2D  (None, 64, 64, 32)       0         \n",
            " )                                                               \n",
            "                                                                 \n",
            " dropout (Dropout)           (None, 64, 64, 32)        0         \n",
            "                                                                 \n",
            " conv2d_2 (Conv2D)           (None, 64, 64, 64)        8256      \n",
            "                                                                 \n",
            " conv2d_3 (Conv2D)           (None, 64, 64, 64)        16448     \n",
            "                                                                 \n",
            " batch_normalization_1 (Batc  (None, 64, 64, 64)       256       \n",
            " hNormalization)                                                 \n",
            "                                                                 \n",
            " max_pooling2d_1 (MaxPooling  (None, 32, 32, 64)       0         \n",
            " 2D)                                                             \n",
            "                                                                 \n",
            " dropout_1 (Dropout)         (None, 32, 32, 64)        0         \n",
            "                                                                 \n",
            " flatten (Flatten)           (None, 65536)             0         \n",
            "                                                                 \n",
            " dense (Dense)               (None, 512)               33554944  \n",
            "                                                                 \n",
            " dropout_2 (Dropout)         (None, 512)               0         \n",
            "                                                                 \n",
            " dense_1 (Dense)             (None, 2)                 1026      \n",
            "                                                                 \n",
            "=================================================================\n",
            "Total params: 33,585,602\n",
            "Trainable params: 33,585,410\n",
            "Non-trainable params: 192\n",
            "_________________________________________________________________\n",
            "None\n"
          ]
        }
      ]
    },
    {
      "cell_type": "code",
      "source": [
        "y_train.shape"
      ],
      "metadata": {
        "id": "VSweg6q7hzC0",
        "colab": {
          "base_uri": "https://localhost:8080/"
        },
        "outputId": "abc7e43a-321d-498b-d5d3-a14a9c7f50be"
      },
      "execution_count": null,
      "outputs": [
        {
          "output_type": "execute_result",
          "data": {
            "text/plain": [
              "(111, 2)"
            ]
          },
          "metadata": {},
          "execution_count": 15
        }
      ]
    },
    {
      "cell_type": "code",
      "source": [
        "history = model.fit(x_train, y_train, epochs = 30, batch_size = 40, verbose = 1,validation_data = (x_test, y_test))"
      ],
      "metadata": {
        "colab": {
          "base_uri": "https://localhost:8080/"
        },
        "id": "HnRE3hUjejjK",
        "outputId": "77db58c7-f1c5-49d9-c439-bfa263f7f346"
      },
      "execution_count": null,
      "outputs": [
        {
          "output_type": "stream",
          "name": "stdout",
          "text": [
            "Epoch 1/30\n",
            "3/3 [==============================] - 9s 2s/step - loss: 19.8591 - val_loss: 79.5135\n",
            "Epoch 2/30\n",
            "3/3 [==============================] - 8s 3s/step - loss: 35.4424 - val_loss: 11.6161\n",
            "Epoch 3/30\n",
            "3/3 [==============================] - 7s 2s/step - loss: 7.9247 - val_loss: 30.5347\n",
            "Epoch 4/30\n",
            "3/3 [==============================] - 7s 2s/step - loss: 6.2508 - val_loss: 11.4599\n",
            "Epoch 5/30\n",
            "3/3 [==============================] - 7s 2s/step - loss: 1.2337 - val_loss: 4.6654\n",
            "Epoch 6/30\n",
            "3/3 [==============================] - 7s 2s/step - loss: 2.3574 - val_loss: 12.0316\n",
            "Epoch 7/30\n",
            "3/3 [==============================] - 7s 2s/step - loss: 2.9076 - val_loss: 10.3393\n",
            "Epoch 8/30\n",
            "3/3 [==============================] - 7s 2s/step - loss: 0.7698 - val_loss: 4.3706\n",
            "Epoch 9/30\n",
            "3/3 [==============================] - 7s 2s/step - loss: 0.8611 - val_loss: 2.6552\n",
            "Epoch 10/30\n",
            "3/3 [==============================] - 7s 2s/step - loss: 0.5094 - val_loss: 1.9686\n",
            "Epoch 11/30\n",
            "3/3 [==============================] - 7s 2s/step - loss: 0.1795 - val_loss: 2.0945\n",
            "Epoch 12/30\n",
            "3/3 [==============================] - 7s 2s/step - loss: 0.1478 - val_loss: 2.4782\n",
            "Epoch 13/30\n",
            "3/3 [==============================] - 7s 2s/step - loss: 0.0043 - val_loss: 2.5610\n",
            "Epoch 14/30\n",
            "3/3 [==============================] - 7s 2s/step - loss: 0.2246 - val_loss: 2.5902\n",
            "Epoch 15/30\n",
            "3/3 [==============================] - 7s 2s/step - loss: 0.1286 - val_loss: 2.3971\n",
            "Epoch 16/30\n",
            "3/3 [==============================] - 7s 2s/step - loss: 0.1174 - val_loss: 2.1585\n",
            "Epoch 17/30\n",
            "3/3 [==============================] - 7s 2s/step - loss: 0.2725 - val_loss: 1.8519\n",
            "Epoch 18/30\n",
            "3/3 [==============================] - 7s 2s/step - loss: 0.0288 - val_loss: 1.7933\n",
            "Epoch 19/30\n",
            "3/3 [==============================] - 7s 2s/step - loss: 6.0462e-05 - val_loss: 1.8070\n",
            "Epoch 20/30\n",
            "3/3 [==============================] - 7s 2s/step - loss: 5.4354e-05 - val_loss: 1.8275\n",
            "Epoch 21/30\n",
            "3/3 [==============================] - 7s 2s/step - loss: 0.0089 - val_loss: 1.9158\n",
            "Epoch 22/30\n",
            "3/3 [==============================] - 7s 2s/step - loss: 0.1044 - val_loss: 2.1815\n",
            "Epoch 23/30\n",
            "3/3 [==============================] - 7s 2s/step - loss: 0.0165 - val_loss: 2.3550\n",
            "Epoch 24/30\n",
            "3/3 [==============================] - 7s 2s/step - loss: 0.1048 - val_loss: 2.3197\n",
            "Epoch 25/30\n",
            "3/3 [==============================] - 7s 2s/step - loss: 0.0510 - val_loss: 2.1536\n",
            "Epoch 26/30\n",
            "3/3 [==============================] - 7s 2s/step - loss: 4.1097e-05 - val_loss: 2.0296\n",
            "Epoch 27/30\n",
            "3/3 [==============================] - 7s 2s/step - loss: 0.0010 - val_loss: 1.9343\n",
            "Epoch 28/30\n",
            "3/3 [==============================] - 7s 2s/step - loss: 1.8386e-05 - val_loss: 1.8729\n",
            "Epoch 29/30\n",
            "3/3 [==============================] - 7s 2s/step - loss: 1.8713e-04 - val_loss: 1.8309\n",
            "Epoch 30/30\n",
            "3/3 [==============================] - 7s 2s/step - loss: 0.0132 - val_loss: 1.8566\n"
          ]
        }
      ]
    },
    {
      "cell_type": "markdown",
      "source": [
        "PLOTTING THE LOSSES"
      ],
      "metadata": {
        "id": "NXVVtvz6iyWy"
      }
    },
    {
      "cell_type": "code",
      "source": [
        "plt.plot(history.history['loss'])\n",
        "plt.plot(history.history['val_loss'])\n",
        "plt.title('Loss function of the model')\n",
        "plt.ylabel('Loss')\n",
        "plt.xlabel('Epoch')\n",
        "plt.legend(['Test', 'Validation'], loc='upper right')\n",
        "plt.show()"
      ],
      "metadata": {
        "id": "LmRW8gyRi7Ih",
        "colab": {
          "base_uri": "https://localhost:8080/",
          "height": 295
        },
        "outputId": "447c85fb-eb5f-494c-bbb3-fe82ea08bfdd"
      },
      "execution_count": null,
      "outputs": [
        {
          "output_type": "display_data",
          "data": {
            "text/plain": [
              "<Figure size 432x288 with 1 Axes>"
            ],
            "image/png": "[encoded data removed]"
          },
          "metadata": {}
        }
      ]
    },
    {
      "cell_type": "markdown",
      "source": [
        "TO CHECK THE WORKING MODEL"
      ],
      "metadata": {
        "id": "QQ8qJ6uIgL-q"
      }
    },
    {
      "cell_type": "code",
      "source": [
        "def names(number):\n",
        "    if number==0:\n",
        "        return 'Its a Tumor'\n",
        "    else:\n",
        "        return 'No, Its not a tumor'"
      ],
      "metadata": {
        "id": "nguS-K7GgKte"
      },
      "execution_count": null,
      "outputs": []
    },
    {
      "cell_type": "code",
      "source": [
        "from matplotlib.pyplot import imshow\n",
        "img = Image.open(r\"/content/drive/MyDrive/images/dataset/tumour/Y100.JPG\")\n",
        "x = np.array(img.resize((128,128)))\n",
        "x = x.reshape(1,128,128,3)\n",
        "res = model.predict_on_batch(x)\n",
        "classification = np.where(res == np.amax(res))[1][0]\n",
        "# imshow(img)\n",
        "print(str(res[0][classification]*100) + '% Confidence This Is ' + names(classification))"
      ],
      "metadata": {
        "colab": {
          "base_uri": "https://localhost:8080/"
        },
        "id": "6eow-rOXgK1L",
        "outputId": "76afe742-30e5-4bba-ceb5-8d0b1bece675"
      },
      "execution_count": null,
      "outputs": [
        {
          "output_type": "stream",
          "name": "stdout",
          "text": [
            "99.99927282333374% Confidence This Is Its a Tumor\n"
          ]
        }
      ]
    }
  ]
}